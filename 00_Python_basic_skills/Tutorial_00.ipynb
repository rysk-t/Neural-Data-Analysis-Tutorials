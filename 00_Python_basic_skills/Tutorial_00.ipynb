{
 "cells": [
  {
   "attachments": {},
   "cell_type": "markdown",
   "id": "6ed81f73-2921-4f1c-95c5-7c31fd54381a",
   "metadata": {},
   "source": [
    "# Python Basic Skills"
   ]
  },
  {
   "attachments": {},
   "cell_type": "markdown",
   "id": "b98fe831-6460-48d3-895b-a1d57a1cbcba",
   "metadata": {},
   "source": [
    "# Import libraries"
   ]
  },
  {
   "cell_type": "code",
   "execution_count": 18,
   "id": "2f29fed2-49bc-4667-b218-1a0f04e8e0e7",
   "metadata": {},
   "outputs": [],
   "source": [
    "# File operation\n",
    "import os, glob\n",
    "\n",
    "# Calculation\n",
    "import numpy as np # import long name library in short name\n",
    "\n",
    "# Figure plotting\n",
    "import matplotlib.pyplot as plt"
   ]
  },
  {
   "attachments": {},
   "cell_type": "markdown",
   "id": "c4f5e696-4df2-44b3-a429-22720abb499e",
   "metadata": {},
   "source": [
    "# Check current directory"
   ]
  },
  {
   "cell_type": "code",
   "execution_count": 19,
   "id": "e6ff8f6d-71c5-459b-8fa3-bb6843507592",
   "metadata": {},
   "outputs": [
    {
     "data": {
      "text/plain": [
       "'/Users/yoshi/Documents/Reserch/code/Neural-Data-Analysis-Tutorials/00_Python_basic_skills'"
      ]
     },
     "execution_count": 19,
     "metadata": {},
     "output_type": "execute_result"
    }
   ],
   "source": [
    "os.getcwd()"
   ]
  },
  {
   "attachments": {},
   "cell_type": "markdown",
   "id": "76aa87bf-2dc2-4a56-8571-764cc0525951",
   "metadata": {},
   "source": [
    "# Basic path operations"
   ]
  },
  {
   "cell_type": "code",
   "execution_count": 20,
   "id": "b8535e10-4e8e-4a7a-a71c-8d92df2859f3",
   "metadata": {},
   "outputs": [
    {
     "name": "stdout",
     "output_type": "stream",
     "text": [
      "/Users/yoshi/Documents/Reserch/code/Neural-Data-Analysis-Tutorials/00_Python_basic_skills/Tutorial_00.ipynb\n",
      "File name: Tutorial_00.ipynb\n",
      "Directory: /Users/yoshi/Documents/Reserch/code/Neural-Data-Analysis-Tutorials/00_Python_basic_skills\n",
      "File name: Tutorial_00.ipynb\n",
      "Path exists\n",
      "['/Users/yoshi/Documents/Reserch/code/Neural-Data-Analysis-Tutorials/00_Python_basic_skills/Tutorial_00.ipynb']\n",
      "Folder already exists\n"
     ]
    }
   ],
   "source": [
    "# Path combining\n",
    "current_folder = os.getcwd()\n",
    "filename = 'Tutorial_00.ipynb'\n",
    "path = os.path.join(current_folder, filename)\n",
    "print(path) # print(A) is a function to display A \n",
    "\n",
    "# Extract last file name\n",
    "print('File name:', os.path.basename(path))\n",
    "\n",
    "# Split path to directory and file name\n",
    "print('Directory:',os.path.split(path)[0])\n",
    "print('File name:',os.path.split(path)[1])\n",
    "\n",
    "# Check the existence the file or folder\n",
    "if os.path.exists(path):\n",
    "    print('Path exists')\n",
    "else:\n",
    "    print('Path does not exist')\n",
    "\n",
    "# \"glob\" returns a list of path names that match pathname.\n",
    "print(glob.glob(os.path.split(path)[0] + os.sep + '*.ipynb'))\n",
    "    \n",
    "# Create new folder\n",
    "new_dir = os.getcwd()+'/Tutorial_00_outputs'\n",
    "if not os.path.exists(new_dir): # check the existence the folder before create a new folder\n",
    "    os.makedirs(new_dir) # create new folder.\n",
    "    print(\"Folder created:\", new_dir)\n",
    "else:\n",
    "    print(\"Folder already exists\")\n",
    "\n",
    "# Also, you can use \"exist_ok =True\" option instead of above \"if statement\"\n",
    "os.makedirs(new_dir, exist_ok=True) "
   ]
  },
  {
   "attachments": {},
   "cell_type": "markdown",
   "id": "0d144b96-7f1b-4e29-b235-2f8d1a89d5aa",
   "metadata": {
    "tags": []
   },
   "source": [
    "# Basic calculation"
   ]
  },
  {
   "attachments": {},
   "cell_type": "markdown",
   "id": "d05fc9c8-00cb-45f4-9b0d-fff9fe22c3bb",
   "metadata": {
    "tags": []
   },
   "source": [
    "### Check operator here\n",
    "#### https://www.w3schools.com/python/python_operators.asp"
   ]
  },
  {
   "cell_type": "code",
   "execution_count": 21,
   "id": "fada347a-8cb6-42b3-b65e-29f31d27344c",
   "metadata": {},
   "outputs": [
    {
     "name": "stdout",
     "output_type": "stream",
     "text": [
      "5\n",
      "6\n",
      "0.6666666666666666\n",
      "5\n",
      "6\n",
      "0.6666666666666666\n"
     ]
    }
   ],
   "source": [
    "# try different types of operator and print the result\n",
    "print(2+3)\n",
    "print(2*3)\n",
    "print(2/3)\n",
    "\n",
    "# It is annoying to enter a value each time\n",
    "# So you can define variables as follows\n",
    "\n",
    "a=2\n",
    "b=3\n",
    "print(a+b)\n",
    "print(a*b)\n",
    "print(a/b)"
   ]
  },
  {
   "attachments": {},
   "cell_type": "markdown",
   "id": "f8ffe4d7",
   "metadata": {},
   "source": [
    "### ndarray operation"
   ]
  },
  {
   "cell_type": "code",
   "execution_count": 22,
   "id": "1731f4a9-80c0-422a-b6a9-c2d0f073022f",
   "metadata": {},
   "outputs": [
    {
     "name": "stdout",
     "output_type": "stream",
     "text": [
      "Array a:\n",
      "[1 2 3 4 5]\n",
      "Array b:\n",
      "[[1 2 3]\n",
      " [4 5 6]]\n",
      "(5,)\n",
      "(2, 3)\n",
      "1\n",
      "[1 2 3]\n",
      "1\n"
     ]
    }
   ],
   "source": [
    "# Create a 1-dimensional array\n",
    "a = np.array([1, 2, 3, 4, 5])\n",
    "print(\"Array a:\")\n",
    "print(a)\n",
    "\n",
    "# Create a 2-dimensional array\n",
    "b = np.array([[1, 2, 3], [4, 5, 6]])\n",
    "print(\"Array b:\")\n",
    "print(b)\n",
    "\n",
    "# Check array shape\n",
    "print(a.shape) # The shape of array \"a\" is (5), indicating 1-dimensional.\n",
    "print(b.shape) # The shape of array \"b\" is (2, 3), indicating 2 rows by 3 columns.\n",
    "\n",
    "# Access specific adress of array\n",
    "print(a[0]) # Access the element at index 0 of array \"a\"\n",
    "print(b[0]) # Access the first row of array \"b\"\n",
    "print(b[0][0]) # Access the element at index (0, 0) of array \"b\""
   ]
  },
  {
   "attachments": {},
   "cell_type": "markdown",
   "id": "8329375c-8e59-4952-bcc2-5520908a9e71",
   "metadata": {},
   "source": [
    "### Calculation with NumPy"
   ]
  },
  {
   "cell_type": "code",
   "execution_count": 23,
   "id": "20e4b722-bcca-4d4f-b3b3-5a5e87a7043b",
   "metadata": {},
   "outputs": [
    {
     "name": "stdout",
     "output_type": "stream",
     "text": [
      "Array c:\n",
      "[2 3 4 5 6]\n",
      "Array d:\n",
      "[[-1  0  1]\n",
      " [ 2  3  4]]\n",
      "Array e:\n",
      "[ 3  6  9 12 15]\n",
      "Array f:\n",
      "[[ 4  8 12]\n",
      " [16 20 24]]\n"
     ]
    }
   ],
   "source": [
    "# Array operations\n",
    "c = a + 1  # Add 1 to each element\n",
    "print(\"Array c:\")\n",
    "print(c)\n",
    "\n",
    "d = b - 2 # Substract 2 from each element\n",
    "print(\"Array d:\")\n",
    "print(d)\n",
    "\n",
    "e = a * 3  # Multiply each element by 2\n",
    "print(\"Array e:\")\n",
    "print(e)\n",
    "\n",
    "f = b * 4  # Divde each element by 2\n",
    "print(\"Array f:\")\n",
    "print(f)"
   ]
  },
  {
   "attachments": {},
   "cell_type": "markdown",
   "id": "6d603973",
   "metadata": {},
   "source": [
    "### Caution: The difference between list and numpy array (numpy.ndarray)"
   ]
  },
  {
   "cell_type": "code",
   "execution_count": 24,
   "id": "c100c3fe",
   "metadata": {},
   "outputs": [
    {
     "name": "stdout",
     "output_type": "stream",
     "text": [
      "[1, 2, 3, 4, 5, 1, 2, 3, 4, 5, 1, 2, 3, 4, 5, 1, 2, 3, 4, 5, 1, 2, 3, 4, 5]\n",
      "[1, 2, 3, 4, 5, 1, 2, 3, 4, 5]\n"
     ]
    }
   ],
   "source": [
    "a_list  = [1, 2, 3, 4, 5]\n",
    "print(a_list*5)\n",
    "print(a_list+a_list)"
   ]
  },
  {
   "attachments": {},
   "cell_type": "markdown",
   "id": "af20dd46",
   "metadata": {},
   "source": [
    "### Caution: call by reference    "
   ]
  },
  {
   "cell_type": "code",
   "execution_count": 25,
   "id": "ed8c085b",
   "metadata": {},
   "outputs": [
    {
     "name": "stdout",
     "output_type": "stream",
     "text": [
      "a [100   2   3   4   5]\n",
      "a_2 [100   2   3   4   5]\n",
      "a_3 [100   2   3   4   5]\n",
      "b [1 2 3 4 5]\n",
      "b_2 [  1   2   3   4 100]\n"
     ]
    }
   ],
   "source": [
    "a = np.array([1, 2, 3, 4, 5])\n",
    "a_2 = a\n",
    "a_3 = a\n",
    "\n",
    "# Assignment operation\n",
    "a_2[0] = 100 \n",
    "\n",
    "# See the results of assignment\n",
    "print('a', a) \n",
    "print('a_2', a_2) \n",
    "print('a_3', a_3)\n",
    "# When modifying \"a_2\", the changes are reflected in the original \"a\" and \"a_3\" as well.\n",
    "\n",
    "# To avoid this, you can use np.copy().\n",
    "b = np.array([1, 2, 3, 4, 5])\n",
    "b_2 = np.copy(b)\n",
    "\n",
    "# Assignment operation\n",
    "b_2[4] = 100\n",
    "\n",
    "print('b', b)\n",
    "print('b_2', b_2)\n"
   ]
  },
  {
   "attachments": {},
   "cell_type": "markdown",
   "id": "8848e3b8",
   "metadata": {},
   "source": [
    "# for loop"
   ]
  },
  {
   "attachments": {},
   "cell_type": "markdown",
   "id": "d2c75871",
   "metadata": {},
   "source": [
    "### Basic examples"
   ]
  },
  {
   "cell_type": "code",
   "execution_count": 26,
   "id": "9e34cf11",
   "metadata": {},
   "outputs": [
    {
     "name": "stdout",
     "output_type": "stream",
     "text": [
      "apple\n",
      "banana\n",
      "cherry\n",
      "0\n",
      "1\n",
      "2\n",
      "3\n",
      "4\n"
     ]
    }
   ],
   "source": [
    "# Example 1: Iterating over a list\n",
    "list_fruits = ['apple', 'banana', 'cherry']\n",
    "\n",
    "for fruit in list_fruits:\n",
    "    print(fruit)\n",
    "\n",
    "# Example 2: Iterating over a range of numbers\n",
    "for i in range(5):\n",
    "    print(i)\n"
   ]
  },
  {
   "attachments": {},
   "cell_type": "markdown",
   "id": "350faa11",
   "metadata": {},
   "source": [
    "### Useful use of the \"for loop\"\n",
    "\n",
    "    \n"
   ]
  },
  {
   "cell_type": "code",
   "execution_count": 27,
   "id": "33704b1a",
   "metadata": {},
   "outputs": [
    {
     "name": "stdout",
     "output_type": "stream",
     "text": [
      "[1, 4, 9, 16, 25]\n"
     ]
    }
   ],
   "source": [
    "'''\n",
    "empty_list = []  # Create an empty list to store the results\n",
    "for i in range(n):  # Iterate 'n' times\n",
    "    a = func(i)  # Execute some process with the current value of 'i' and store the result in variable 'a'\n",
    "    empty_list.append(a)  # Append the result 'a' to the empty_list using the 'list.append()' method\n",
    "'''\n",
    "\n",
    "numbers = [1, 2, 3, 4, 5]  # Create a list of numbers\n",
    "\n",
    "squares = []  # Create an empty list to store the squared values\n",
    "\n",
    "for num in numbers:  # Iterate over each number in the list\n",
    "    squares.append(num ** 2)  # Square the current number and add it to the squares list\n",
    "\n",
    "print(squares)  # Print the list of squared values"
   ]
  },
  {
   "cell_type": "code",
   "execution_count": 28,
   "id": "042d3b8a",
   "metadata": {},
   "outputs": [
    {
     "name": "stdout",
     "output_type": "stream",
     "text": [
      "[0, 2, 4, 6, 8, 10, 12, 14, 16, 18]\n",
      "[1, 3, 5, 7, 9, 11, 13, 15, 17, 19]\n"
     ]
    }
   ],
   "source": [
    "evens = []  # Create an empty list to store the even numbers\n",
    "odds = []  # Create an empty list to store the odd numbers\n",
    "\n",
    "for num in range(20):  # Iterate over numbers from 0 to 19\n",
    "    if num % 2 == 0:  # Check if the current number is even\n",
    "        evens.append(num)  # Append the even number to the evens list\n",
    "    else:  # If the current number is odd\n",
    "        odds.append(num)  # Append the odd number to the odds list\n",
    "\n",
    "print(evens)  # Print the list of even numbers\n",
    "print(odds)  # Print the list of odd numbers\n"
   ]
  },
  {
   "attachments": {},
   "cell_type": "markdown",
   "id": "7b47abc2-2d5f-477f-bfd7-e7a176c9e64e",
   "metadata": {},
   "source": [
    "# Basic methods to plot figures and save them"
   ]
  },
  {
   "attachments": {},
   "cell_type": "markdown",
   "id": "3403a12f-6d62-4eb0-bdbd-f3c4c29ae79e",
   "metadata": {},
   "source": [
    "### Generate and plot random signal"
   ]
  },
  {
   "cell_type": "code",
   "execution_count": 29,
   "id": "f52761a4-6a12-40d4-9e21-cad00dfeed11",
   "metadata": {},
   "outputs": [
    {
     "data": {
      "image/png": "[encoded data removed]",
      "text/plain": [
       "<Figure size 432x288 with 1 Axes>"
      ]
     },
     "metadata": {
      "needs_background": "light"
     },
     "output_type": "display_data"
    }
   ],
   "source": [
    "# Generate white noise\n",
    "sf = 1000 # Sampling frequency in Hz\n",
    "duration = 1 # Duration of the signal in seconds\n",
    "time = np.arange(0, sf*duration, 1)/sf # Time array for the signal\n",
    "mean = 0 # Mean of the white noise \n",
    "std = 1 # Standard deviation of the white noise \n",
    "noise = np.random.normal(mean, std, int(sf*duration)) # Generate white noise\n",
    "\n",
    "# Plot\n",
    "fig = plt.figure(figsize=(6,4))\n",
    "plt.plot(time, noise, lw=0.5, color='black')  # Plotting the noise signal\n",
    "plt.xlim(time.min(), time.max())  # Setting the x-axis limits to the minimum and maximum time values\n",
    "plt.xlabel('Time (sec)')  # Adding a label to the x-axis\n",
    "plt.ylabel('Noise amplitude')  # Adding a label to the y-axis\n",
    "\n",
    "# Configuring the plot to remove the right and top spines, and setting the tick positions\n",
    "plt.gca().spines['right'].set_visible(False)\n",
    "plt.gca().spines['top'].set_visible(False)\n",
    "plt.gca().yaxis.set_ticks_position('left')\n",
    "plt.gca().xaxis.set_ticks_position('bottom')\n",
    "\n",
    "# Save the figure\n",
    "plt.savefig(new_dir+'/White_noise.png')"
   ]
  },
  {
   "attachments": {},
   "cell_type": "markdown",
   "id": "fbd8e70d-0f8e-44fb-ace3-b6908d17470f",
   "metadata": {},
   "source": [
    "### Generate spike-like trains and plot them as a \"raster plot\"\n",
    " #### about color map\n",
    "https://matplotlib.org/stable/users/explain/colors/colormaps.html\n"
   ]
  },
  {
   "cell_type": "code",
   "execution_count": 30,
   "id": "e1da636f-048f-4d9e-a00a-1a75ba79aba0",
   "metadata": {},
   "outputs": [
    {
     "data": {
      "image/png": "[encoded data removed]",
      "text/plain": [
       "<Figure size 432x288 with 1 Axes>"
      ]
     },
     "metadata": {
      "needs_background": "light"
     },
     "output_type": "display_data"
    }
   ],
   "source": [
    "# This code is just for plotting and doesn't reflect actual neuron's property.\n",
    "num_neurons = 10  # Number of neurons\n",
    "num_spikes = 100  # Number of spike events\n",
    "time = 10 # in sec\n",
    "# Generate random spike times for each neuron\n",
    "spike_times = np.sort(np.random.uniform(0, time, size=(num_neurons, num_spikes)), axis=1)\n",
    "\n",
    "color_idx = np.linspace(1, 0, num_neurons)\n",
    "\n",
    "# Create a raster plot\n",
    "plt.figure(figsize=(6, 4))\n",
    "plt.eventplot(spike_times, linelengths=0.5, color=plt.cm.cool(color_idx))\n",
    "\n",
    "# Set axis labels and spines\n",
    "plt.xlabel('Time (sec)')\n",
    "plt.ylabel('Neuron')\n",
    "plt.title('Raster Plot')\n",
    "plt.gca().spines['right'].set_visible(False)\n",
    "plt.gca().spines['top'].set_visible(False)\n",
    "plt.gca().yaxis.set_ticks_position('left')\n",
    "plt.gca().xaxis.set_ticks_position('bottom')\n",
    "\n",
    "# Set y-axis tick positions according to the number of neurons\n",
    "plt.yticks(np.arange(0, num_neurons))\n",
    "plt.ylim(-0.5, num_neurons)\n",
    "\n",
    "# Display grid lines\n",
    "plt.grid(True, axis='y', linestyle='--', color='gray')\n",
    "\n",
    "# Save the figure\n",
    "plt.savefig(new_dir+'/Spike-train.png')"
   ]
  },
  {
   "cell_type": "markdown",
   "id": "0a4fef5d",
   "metadata": {},
   "source": [
    "# Create Function"
   ]
  },
  {
   "cell_type": "markdown",
   "id": "e3d7f966",
   "metadata": {},
   "source": [
    "### Using function has some benefits in coding\n",
    "・Modularity: Functions break down code into smaller, manageable pieces, enhancing organization and readability.\n",
    "\n",
    "・Code Reusability: Functions can be reused multiple times, reducing code duplication and saving time.\n",
    "\n",
    "・Abstraction: Functions abstract away internal details, focusing on what a task does, not how it's done.\n",
    "\n",
    "・Parameterization: Functions accept parameters, making them flexible for different scenarios.\n",
    "\n",
    "・Maintainability: Functions help keep code organized and maintainable as it grows.\n",
    "\n",
    "・Collaboration: Functions facilitate teamwork by allowing tasks to be divided among team members."
   ]
  },
  {
   "cell_type": "code",
   "execution_count": 31,
   "id": "dec10322",
   "metadata": {},
   "outputs": [],
   "source": [
    "def generate_custom_white_noise(sf, duration, mean=0, std=1):\n",
    "    \"\"\"\n",
    "    Generate white noise with customizable mean and standard deviation.\n",
    "\n",
    "    Parameters:\n",
    "    - sf: Sampling frequency in Hz.\n",
    "    - duration: Duration of the noise signal in seconds.\n",
    "    - mean: Mean of the white noise (default is 0).\n",
    "    - std: Standard deviation of the white noise (default is 1).\n",
    "\n",
    "    Returns:\n",
    "    - time: Time array for the noise signal.\n",
    "    - noise: White noise signal.\n",
    "    \"\"\"\n",
    "    # Time array for the signal\n",
    "    time = np.arange(0, sf * duration, 1) / sf\n",
    "\n",
    "    # Generate white noise signal with custom mean and standard deviation\n",
    "    noise = np.random.normal(mean, std, int(sf * duration))\n",
    "\n",
    "    return time, noise"
   ]
  },
  {
   "cell_type": "code",
   "execution_count": 32,
   "id": "7ecedc8a",
   "metadata": {},
   "outputs": [],
   "source": [
    "# Example usage:\n",
    "sf = 1000  # Sampling frequency in Hz\n",
    "duration = 1  # Duration of the noise signal in seconds\n",
    "mean = 0  # Mean of the white noise\n",
    "std = 1  # Standard deviation of the white noise\n",
    "time, noise = generate_custom_white_noise(sf, duration, mean, std)"
   ]
  },
  {
   "cell_type": "code",
   "execution_count": 33,
   "id": "bd05a592",
   "metadata": {},
   "outputs": [],
   "source": [
    "# Define parameters for generating white noise\n",
    "sf = 1000  # Sampling frequency in Hz\n",
    "duration = 1  # Duration of the noise signal in seconds\n",
    "mean = 0  # Mean of the white noise\n",
    "std = 1  # Standard deviation of the white noise\n",
    "\n",
    "# Initialize an empty list to store multiple instances of white noise\n",
    "noises = []\n",
    "# Generate white noise and store it in the 'noises' list, repeated 10 times\n",
    "num_noises=10\n",
    "for i in range(num_noises):\n",
    "    # Generate white noise using the custom function, providing the specified parameters\n",
    "    time, noise = generate_custom_white_noise(sf, duration, mean, std)\n",
    "    \n",
    "    # Append the generated noise to the 'noises' list\n",
    "    noises.append(noise)\n",
    "\n",
    "# Convert the list of noise signals into a NumPy array for further analysis\n",
    "noises = np.array(noises)"
   ]
  },
  {
   "cell_type": "code",
   "execution_count": 34,
   "id": "638a5421",
   "metadata": {},
   "outputs": [
    {
     "data": {
      "image/png": "[encoded data removed]",
      "text/plain": [
       "<Figure size 432x288 with 1 Axes>"
      ]
     },
     "metadata": {
      "needs_background": "light"
     },
     "output_type": "display_data"
    }
   ],
   "source": [
    "plt.figure(figsize=(6, 4))\n",
    "color_idx = np.linspace(1, 0, num_noises)\n",
    "for i in range(num_noises):\n",
    "    plt.plot(time, noises[i]+i*10,lw=0.5, color=plt.cm.cool(color_idx[i]))\n",
    "plt.xlabel('Time (sec)')\n",
    "plt.ylabel('White noises')\n",
    "plt.gca().spines['right'].set_visible(False)\n",
    "plt.gca().spines['top'].set_visible(False)\n",
    "plt.gca().yaxis.set_ticks_position('left')\n",
    "plt.gca().xaxis.set_ticks_position('bottom')"
   ]
  },
  {
   "cell_type": "code",
   "execution_count": null,
   "id": "73a1c69f",
   "metadata": {},
   "outputs": [],
   "source": []
  }
 ],
 "metadata": {
  "kernelspec": {
   "display_name": "Python 3 (ipykernel)",
   "language": "python",
   "name": "python3"
  },
  "language_info": {
   "codemirror_mode": {
    "name": "ipython",
    "version": 3
   },
   "file_extension": ".py",
   "mimetype": "text/x-python",
   "name": "python",
   "nbconvert_exporter": "python",
   "pygments_lexer": "ipython3",
   "version": "3.7.16"
  }
 },
 "nbformat": 4,
 "nbformat_minor": 5
}
